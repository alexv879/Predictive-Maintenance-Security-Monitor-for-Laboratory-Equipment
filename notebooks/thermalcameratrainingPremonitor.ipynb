{
  "nbformat": 4,
  "nbformat_minor": 0,
  "metadata": {
    "colab": {
      "provenance": []
    },
    "kernelspec": {
      "name": "python3",
      "display_name": "Python 3"
    },
    "language_info": {
      "name": "python"
    }
  },
  "cells": [
    {
      "cell_type": "code",
      "execution_count": null,
      "metadata": {
        "id": "bEOEEcHYxc8n"
      },
      "outputs": [],
      "source": [
        "!pip install opencv-python tensorflow matplotlib --quiet\n",
        "import os, cv2, numpy as np\n",
        "import matplotlib.pyplot as plt\n",
        "import tensorflow as tf\n",
        "from tensorflow.keras import layers, models\n",
        "from tensorflow.keras.applications import Xception"
      ]
    },
    {
      "cell_type": "code",
      "source": [
        "from google.colab import drive\n",
        "drive.mount('/content/drive')\n",
        "\n",
        "DATASET_PATH_NORMAL = '/content/drive/MyDrive/Premonitor/datasets/aau_vap_trimodal/IR_normal/'\n",
        "DATASET_PATH_HOTSPOT = '/content/drive/MyDrive/Premonitor/datasets/aau_vap_trimodal/IR_hotspot/'\n"
      ],
      "metadata": {
        "id": "XUM728L78o31"
      },
      "execution_count": null,
      "outputs": []
    },
    {
      "cell_type": "code",
      "source": [
        "def load_images(folder, label, img_size=(128,128)):\n",
        "    images, labels = [], []\n",
        "    for file in sorted(os.listdir(folder)):\n",
        "        if file.endswith('.png'):\n",
        "            img = cv2.imread(os.path.join(folder, file), cv2.IMREAD_GRAYSCALE)\n",
        "            img = cv2.resize(img, img_size)\n",
        "            img = img.astype('float32') / 255.0\n",
        "            images.append(np.expand_dims(img, -1))\n",
        "            labels.append(label)\n",
        "    return np.array(images), np.array(labels)\n",
        "\n",
        "X1, y1 = load_images(DATASET_PATH_NORMAL, 0)\n",
        "X2, y2 = load_images(DATASET_PATH_HOTSPOT, 1)\n",
        "\n",
        "X = np.concatenate([X1, X2], axis=0)\n",
        "y = np.concatenate([y1, y2], axis=0)\n",
        "X = X.reshape(-1, 128, 128, 1)\n"
      ],
      "metadata": {
        "id": "3-hdf0kc8r1r"
      },
      "execution_count": null,
      "outputs": []
    },
    {
      "cell_type": "code",
      "source": [
        "def build_siamese_encoder(input_shape=(128,128,1)):\n",
        "    base = Xception(include_top=False, weights=None, input_shape=(128,128,3), pooling='avg')\n",
        "    inputs = layers.Input(shape=input_shape)\n",
        "    x = layers.Concatenate()([inputs, inputs, inputs])  # Replicate 1-channel to 3\n",
        "    features = base(x)\n",
        "    return models.Model(inputs, features)\n",
        "\n",
        "def build_classifier(encoder):\n",
        "    inputs = layers.Input(shape=(128,128,1))\n",
        "    features = encoder(inputs)\n",
        "    x = layers.Dense(128, activation='relu')(features)\n",
        "    x = layers.Dense(1, activation='sigmoid')(x)\n",
        "    return models.Model(inputs, x)\n",
        "\n",
        "encoder = build_siamese_encoder()\n",
        "model = build_classifier(encoder)\n",
        "model.compile(optimizer='adam', loss='binary_crossentropy', metrics=['accuracy'])\n",
        "model.summary()\n"
      ],
      "metadata": {
        "id": "RPbg5rhe8u1t"
      },
      "execution_count": null,
      "outputs": []
    },
    {
      "cell_type": "code",
      "source": [
        "model.fit(X, y, validation_split=0.2, batch_size=32, epochs=10)\n"
      ],
      "metadata": {
        "id": "xC3lEAtQ8xUH"
      },
      "execution_count": null,
      "outputs": []
    },
    {
      "cell_type": "code",
      "source": [
        "def make_gradcam_heatmap(img_array, model, last_conv_layer_name='block14_sepconv2_act'):\n",
        "    grad_model = tf.keras.models.Model(\n",
        "        [model.inputs],\n",
        "        [model.get_layer(last_conv_layer_name).output, model.output]\n",
        "    )\n",
        "    with tf.GradientTape() as tape:\n",
        "        conv_outputs, predictions = grad_model(img_array)\n",
        "        loss = predictions[:, 0]\n",
        "    grads = tape.gradient(loss, conv_outputs)[0]\n",
        "    pooled_grads = tf.reduce_mean(grads, axis=(0, 1, 2))\n",
        "    conv_outputs = conv_outputs[0]\n",
        "    heatmap = conv_outputs @ pooled_grads[..., tf.newaxis]\n",
        "    heatmap = tf.squeeze(heatmap)\n",
        "    heatmap = tf.maximum(heatmap, 0) / tf.math.reduce_max(heatmap)\n",
        "    return heatmap.numpy()\n",
        "\n",
        "# Visualize\n",
        "sample = np.expand_dims(X[0], axis=0)\n",
        "heatmap = make_gradcam_heatmap(sample, model)\n",
        "plt.imshow(np.squeeze(sample), cmap='gray')\n",
        "plt.imshow(heatmap, cmap='jet', alpha=0.5)\n",
        "plt.title(\"Thermal GradCAM\")\n",
        "plt.axis('off')\n",
        "plt.show()\n"
      ],
      "metadata": {
        "id": "hq67iwcV8x0c"
      },
      "execution_count": null,
      "outputs": []
    },
    {
      "cell_type": "code",
      "source": [
        "model.save('/content/drive/MyDrive/Premonitor/models/thermal_simsiam_fire_detector.h5')"
      ],
      "metadata": {
        "id": "l_mgr8CK80e8"
      },
      "execution_count": null,
      "outputs": []
    }
  ]
}